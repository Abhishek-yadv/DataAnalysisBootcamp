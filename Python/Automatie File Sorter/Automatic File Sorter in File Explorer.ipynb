{
 "cells": [
  {
   "cell_type": "code",
   "execution_count": 14,
   "id": "8e26a628",
   "metadata": {},
   "outputs": [],
   "source": [
    "import os\n",
    "import shutil"
   ]
  },
  {
   "cell_type": "code",
   "execution_count": 15,
   "id": "431ad411",
   "metadata": {},
   "outputs": [],
   "source": [
    "path = r\"C:/VsCode/\""
   ]
  },
  {
   "cell_type": "code",
   "execution_count": null,
   "id": "86c3c5be",
   "metadata": {},
   "outputs": [],
   "source": [
    "os.listdir(path)"
   ]
  },
  {
   "cell_type": "code",
   "execution_count": 18,
   "id": "2a30a869",
   "metadata": {},
   "outputs": [],
   "source": [
    "file_name = os.listdir(path)"
   ]
  },
  {
   "cell_type": "code",
   "execution_count": null,
   "id": "3321e748",
   "metadata": {},
   "outputs": [],
   "source": [
    "os.path.exists(path+'csv files')"
   ]
  },
  {
   "cell_type": "code",
   "execution_count": 22,
   "id": "c2e3d17f",
   "metadata": {},
   "outputs": [
    {
     "name": "stdout",
     "output_type": "stream",
     "text": [
      "These files in this path were not moved\n",
      "These files in this path were not moved\n",
      "These files in this path were not moved\n",
      "These files in this path were not moved\n",
      "These files in this path were not moved\n",
      "These files in this path were not moved\n",
      "These files in this path were not moved\n",
      "These files in this path were not moved\n",
      "These files in this path were not moved\n",
      "These files in this path were not moved\n",
      "These files in this path were not moved\n",
      "These files in this path were not moved\n",
      "These files in this path were not moved\n",
      "These files in this path were not moved\n",
      "These files in this path were not moved\n",
      "These files in this path were not moved\n",
      "These files in this path were not moved\n",
      "These files in this path were not moved\n",
      "These files in this path were not moved\n",
      "These files in this path were not moved\n",
      "These files in this path were not moved\n",
      "These files in this path were not moved\n",
      "These files in this path were not moved\n",
      "These files in this path were not moved\n",
      "These files in this path were not moved\n",
      "These files in this path were not moved\n",
      "These files in this path were not moved\n",
      "These files in this path were not moved\n",
      "These files in this path were not moved\n"
     ]
    }
   ],
   "source": [
    "folder_names = ['csv_files','image_files','text_files']\n",
    "for loop in range(len(folder_names)):\n",
    "    if not os.path.exists(path+folder_names[loop]):\n",
    "        os.makedirs(path+folder_names[loop])\n",
    "        \n",
    "for file in file_name:\n",
    "    if \".csv\" in file and not os.path.exists(path + 'csv_files/' + file):\n",
    "        shutil.move(path + file, path + 'csv_files/' + file)\n",
    "    elif \".txt\" in file and not os.path.exists(path + 'text_files/' + file):\n",
    "        shutil.move(path + file, path + 'text_files/' + file)\n",
    "    elif \".png\" in file and not os.path.exists(path + 'image_files/' + file):\n",
    "        shutil.move(path + file, path + 'image_files/' + file)   "
   ]
  },
  {
   "cell_type": "code",
   "execution_count": null,
   "id": "ce59b38a",
   "metadata": {},
   "outputs": [],
   "source": []
  }
 ],
 "metadata": {
  "kernelspec": {
   "display_name": "Python 3 (ipykernel)",
   "language": "python",
   "name": "python3"
  },
  "language_info": {
   "codemirror_mode": {
    "name": "ipython",
    "version": 3
   },
   "file_extension": ".py",
   "mimetype": "text/x-python",
   "name": "python",
   "nbconvert_exporter": "python",
   "pygments_lexer": "ipython3",
   "version": "3.10.9"
  }
 },
 "nbformat": 4,
 "nbformat_minor": 5
}
