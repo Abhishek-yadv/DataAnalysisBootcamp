{
 "cells": [
  {
   "cell_type": "code",
   "execution_count": 37,
   "id": "fc1a4c5e",
   "metadata": {},
   "outputs": [],
   "source": [
    "# import libraries \n",
    "\n",
    "from bs4 import BeautifulSoup\n",
    "import requests\n",
    "import time\n",
    "import datetime\n",
    "import smtplib"
   ]
  },
  {
   "cell_type": "code",
   "execution_count": 48,
   "id": "d10e963a",
   "metadata": {},
   "outputs": [
    {
     "name": "stdout",
     "output_type": "stream",
     "text": [
      "Internet was Down Geek Nerd College Tech Very Funny T-Shirt\n",
      "$18.99\n"
     ]
    }
   ],
   "source": [
    "# Connect to Website and pull in data\n",
    "\n",
    "URL = 'https://www.amazon.com/dp/B00QPVPYZY/ref=sspa_dk_detail_5?psc=1&pd_rd_i=B00QPVPYZY&pd_rd_w=vDrDN&content-id=amzn1.sym.0d1092dc-81bb-493f-8769-d5c802257e94&pf_rd_p=0d1092dc-81bb-493f-8769-d5c802257e94&pf_rd_r=DCR7AHP5SW4VWKPM53E4&pd_rd_wg=EnZfm&pd_rd_r=f277baaf-7d0f-424d-bbf5-68ec2b9ffe13&s=apparel&sp_csd=d2lkZ2V0TmFtZT1zcF9kZXRhaWwy'\n",
    "\n",
    "headers = {\"User-Agent\": \"Mozilla/5.0 (Windows NT 10.0; Win64; x64) AppleWebKit/537.36 (KHTML, like Gecko) Chrome/78.0.3904.108 Safari/537.36\", \"Accept-Encoding\":\"gzip, deflate\", \"Accept\":\"text/html,application/xhtml+xml,application/xml;q=0.9,*/*;q=0.8\", \"DNT\":\"1\",\"Connection\":\"close\", \"Upgrade-Insecure-Requests\":\"1\"}\n",
    "\n",
    "page = requests.get(URL, headers=headers)\n",
    "\n",
    "soup = BeautifulSoup(page.content, \"html.parser\")\n",
    "\n",
    "soup1 = BeautifulSoup(soup.prettify(), \"html.parser\")\n",
    "\n",
    "title = soup1.find(id='productTitle').get_text().strip()\n",
    "\n",
    "price = soup1.find('span', {'class': 'a-offscreen'}).get_text().strip()\n",
    "\n",
    "\n",
    "print(title)\n",
    "print(price)"
   ]
  },
  {
   "cell_type": "code",
   "execution_count": 45,
   "id": "6039b677",
   "metadata": {},
   "outputs": [
    {
     "name": "stdout",
     "output_type": "stream",
     "text": [
      "Internet was Down Geek Nerd College Tech Very Funny T-Shirt\n",
      "18.99\n"
     ]
    }
   ],
   "source": [
    "# Clean up the data a little bit\n",
    "\n",
    "price = price.strip()[1:]\n",
    "title = title.strip()\n",
    "\n",
    "print(title)\n",
    "print(price)"
   ]
  },
  {
   "cell_type": "code",
   "execution_count": 53,
   "id": "db26b62b",
   "metadata": {},
   "outputs": [
    {
     "name": "stdout",
     "output_type": "stream",
     "text": [
      "2023-05-30\n"
     ]
    }
   ],
   "source": [
    "import datetime\n",
    "today = datetime.date.today()\n",
    "print(today)"
   ]
  },
  {
   "cell_type": "code",
   "execution_count": 55,
   "id": "c883042c",
   "metadata": {},
   "outputs": [],
   "source": [
    "import csv\n",
    "Header = ['Title', 'Price','Date']\n",
    "data = [title, price,today]\n",
    "\n",
    "with open(\"AmazonWebScrapperDataset.csv\", \"w\",newline = '', encoding = \"UTF-8\") as file:\n",
    "    writer = csv.writer(file)\n",
    "    # Write the header row\n",
    "    writer.writerow(Header)\n",
    "     # Write the data rows\n",
    "    writer.writerow(data)"
   ]
  },
  {
   "cell_type": "code",
   "execution_count": null,
   "id": "84ef1194",
   "metadata": {},
   "outputs": [],
   "source": [
    "def check_price():\n",
    "    # Connect to Website and pull in data\n",
    "\n",
    "    URL = 'https://www.amazon.com/dp/B00QPVPYZY/ref=sspa_dk_detail_5?psc=1&pd_rd_i=B00QPVPYZY&pd_rd_w=vDrDN&content-id=amzn1.sym.0d1092dc-81bb-493f-8769-d5c802257e94&pf_rd_p=0d1092dc-81bb-493f-8769-d5c802257e94&pf_rd_r=DCR7AHP5SW4VWKPM53E4&pd_rd_wg=EnZfm&pd_rd_r=f277baaf-7d0f-424d-bbf5-68ec2b9ffe13&s=apparel&sp_csd=d2lkZ2V0TmFtZT1zcF9kZXRhaWwy'\n",
    "\n",
    "    headers = {\"User-Agent\": \"Mozilla/5.0 (Windows NT 10.0; Win64; x64) AppleWebKit/537.36 (KHTML, like Gecko) Chrome/78.0.3904.108 Safari/537.36\", \"Accept-Encoding\":\"gzip, deflate\", \"Accept\":\"text/html,application/xhtml+xml,application/xml;q=0.9,*/*;q=0.8\", \"DNT\":\"1\",\"Connection\":\"close\", \"Upgrade-Insecure-Requests\":\"1\"}\n",
    "\n",
    "    page = requests.get(URL, headers=headers)\n",
    "\n",
    "    soup = BeautifulSoup(page.content, \"html.parser\")\n",
    "\n",
    "    soup1 = BeautifulSoup(soup.prettify(), \"html.parser\")\n",
    "\n",
    "    title = soup1.find(id='productTitle').get_text().strip()\n",
    "\n",
    "    price = soup1.find('span', {'class': 'a-offscreen'}).get_text().strip()\n",
    "\n",
    "    print(title)\n",
    "    print(price)\n",
    "    \n",
    "    import datetime\n",
    "    today = datetime.date.today()\n",
    "    print(today)\n",
    "    \n",
    "    \n",
    "    import csv\n",
    "    Header = ['Title', 'Price','Date']\n",
    "    data = [title, price,today]\n",
    "\n",
    "    with open('AmazonWebScrapperDataset.csv', 'a+',newline = '', encoding = \"UTF-8\") as file:\n",
    "        writer = csv.writer(file)\n",
    "        # Write the header row\n",
    "        writer.writerow(Header)\n",
    "         # Write the data rows\n",
    "        writer.writerow(data)\n",
    "# price alert\n",
    "\n",
    "def send_mail():\n",
    "    server = smtplib.SMTP_SSL('smtp.gmail.com',465)\n",
    "    server.ehlo()\n",
    "    #server.starttls()\n",
    "    server.ehlo()\n",
    "    server.login('Ay29020@gmail.com','xxxxxxxxxxxxxx')\n",
    "    \n",
    "    mssg = \"Shirts price drop!\"\n",
    "    body = \"Abhishek,it's good time to buy it don't miss it\"\n",
    "    msg = f\"Subject: {subject}\\n\\n{body}\"\n",
    "    \n",
    "    server.sendmail(\n",
    "        'ay29020@gmail.com',\n",
    "        msg\n",
    "     \n",
    "    )"
   ]
  },
  {
   "cell_type": "code",
   "execution_count": null,
   "id": "d52d53e7",
   "metadata": {},
   "outputs": [],
   "source": [
    "while True:\n",
    "    check_price()\n",
    "    time.sleep(5)"
   ]
  },
  {
   "cell_type": "code",
   "execution_count": null,
   "id": "1de97840",
   "metadata": {},
   "outputs": [],
   "source": [
    "if proce < 14:\n",
    "    send_mail()"
   ]
  },
  {
   "cell_type": "code",
   "execution_count": 67,
   "id": "a0c4f79a",
   "metadata": {},
   "outputs": [
    {
     "name": "stdout",
     "output_type": "stream",
     "text": [
      "                                                Title   Price        Date\n",
      "0   Internet was Down Geek Nerd College Tech Very ...  $18.99  2023-05-30\n",
      "1                                               Title   Price        Date\n",
      "2   Internet was Down Geek Nerd College Tech Very ...  $18.99  2023-05-30\n",
      "3                                               Title   Price        Date\n",
      "4   Internet was Down Geek Nerd College Tech Very ...  $18.99  2023-05-30\n",
      "5                                               Title   Price        Date\n",
      "6   Internet was Down Geek Nerd College Tech Very ...  $18.99  2023-05-30\n",
      "7                                               Title   Price        Date\n",
      "8   Internet was Down Geek Nerd College Tech Very ...  $18.99  2023-05-30\n",
      "9                                               Title   Price        Date\n",
      "10  Internet was Down Geek Nerd College Tech Very ...  $18.99  2023-05-30\n",
      "11                                              Title   Price        Date\n",
      "12  Internet was Down Geek Nerd College Tech Very ...  $18.99  2023-05-30\n",
      "13                                              Title   Price        Date\n",
      "14  Internet was Down Geek Nerd College Tech Very ...  $18.99  2023-05-30\n",
      "15                                              Title   Price        Date\n",
      "16  Internet was Down Geek Nerd College Tech Very ...  $18.99  2023-05-30\n",
      "17                                              Title   Price        Date\n",
      "18  Internet was Down Geek Nerd College Tech Very ...  $18.99  2023-05-30\n",
      "19                                              Title   Price        Date\n",
      "20  Internet was Down Geek Nerd College Tech Very ...  $18.99  2023-05-30\n",
      "21                                              Title   Price        Date\n",
      "22  Internet was Down Geek Nerd College Tech Very ...  $18.99  2023-05-30\n",
      "23                                              Title   Price        Date\n",
      "24  Internet was Down Geek Nerd College Tech Very ...  $18.99  2023-05-30\n",
      "25                                              Title   Price        Date\n",
      "26  Internet was Down Geek Nerd College Tech Very ...  $18.99  2023-05-30\n",
      "27                                              Title   Price        Date\n",
      "28  Internet was Down Geek Nerd College Tech Very ...  $18.99  2023-05-30\n",
      "29                                              Title   Price        Date\n",
      "30  Internet was Down Geek Nerd College Tech Very ...  $18.99  2023-05-30\n",
      "31                                              Title   Price        Date\n",
      "32  Internet was Down Geek Nerd College Tech Very ...  $18.99  2023-05-30\n",
      "33                                              Title   Price        Date\n",
      "34  Internet was Down Geek Nerd College Tech Very ...  $18.99  2023-05-30\n"
     ]
    }
   ],
   "source": [
    "import pandas as pd\n",
    "df = pd.read_csv(r\"C:\\Users\\admin\\AmazonWebScrapperDataset.csv\")\n",
    "print(df)"
   ]
  },
  {
   "cell_type": "code",
   "execution_count": null,
   "id": "eac90d7f",
   "metadata": {},
   "outputs": [],
   "source": []
  }
 ],
 "metadata": {
  "kernelspec": {
   "display_name": "Python 3 (ipykernel)",
   "language": "python",
   "name": "python3"
  },
  "language_info": {
   "codemirror_mode": {
    "name": "ipython",
    "version": 3
   },
   "file_extension": ".py",
   "mimetype": "text/x-python",
   "name": "python",
   "nbconvert_exporter": "python",
   "pygments_lexer": "ipython3",
   "version": "3.10.9"
  }
 },
 "nbformat": 4,
 "nbformat_minor": 5
}
