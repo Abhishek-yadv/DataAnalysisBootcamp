{
 "cells": [
  {
   "cell_type": "code",
   "execution_count": null,
   "id": "4d27fc63",
   "metadata": {},
   "outputs": [],
   "source": [
    "from requests import Request, Session\n",
    "from requests.exceptions import ConnectionError, Timeout, TooManyRedirects\n",
    "import json\n",
    "\n",
    "url = 'https://pro-api.coinmarketcap.com/v1/cryptocurrency/listings/latest'\n",
    "parameters = {\n",
    "  'start':'1',\n",
    "  'limit':'5000',\n",
    "  'convert':'USD'\n",
    "}\n",
    "headers = {\n",
    "  'Accepts': 'application/json',\n",
    "  'X-CMC_PRO_API_KEY': '761dde62-9394-45dd-83e0-27c4411900e6',\n",
    "}\n",
    "\n",
    "session = Session()\n",
    "session.headers.update(headers)\n",
    "\n",
    "try:\n",
    "  response = session.get(url, params=parameters)\n",
    "  data = json.loads(response.text)\n",
    "  print(data)\n",
    "except (ConnectionError, Timeout, TooManyRedirects) as e:\n",
    "  print(e)\n",
    "#To extend rate litmit run this \"--NotebookApp.iopub_data_rate_limit\" in anaconda prompt"
   ]
  },
  {
   "cell_type": "code",
   "execution_count": null,
   "id": "bb48f2ce",
   "metadata": {},
   "outputs": [],
   "source": [
    "type(data)"
   ]
  },
  {
   "cell_type": "code",
   "execution_count": null,
   "id": "a6659778",
   "metadata": {},
   "outputs": [],
   "source": [
    "import pandas as pd\n",
    "\n",
    "pd.set_option('display.max_columns',None)\n",
    "pd.set_option('display.max_rows',None)"
   ]
  },
  {
   "cell_type": "code",
   "execution_count": 3,
   "id": "d3d37497",
   "metadata": {},
   "outputs": [],
   "source": [
    "df = pd.json_normalize(data['data'])\n",
    "# df['times_tamp'] = pd.to_datetime('now')\n",
    "df['times_tamp'] = pd.Timestamp('now')\n"
   ]
  },
  {
   "cell_type": "code",
   "execution_count": 4,
   "id": "baf30825",
   "metadata": {},
   "outputs": [],
   "source": [
    "def api_runner():\n",
    "    from requests import Request, Session\n",
    "    from requests.exceptions import ConnectionError, Timeout, TooManyRedirects\n",
    "    import json\n",
    "\n",
    "    url = 'https://pro-api.coinmarketcap.com/v1/cryptocurrency/listings/latest'\n",
    "    parameters = {\n",
    "      'start':'1',\n",
    "      'limit':'15',\n",
    "      'convert':'USD'\n",
    "    }\n",
    "    headers = {\n",
    "      'Accepts': 'application/json',\n",
    "      'X-CMC_PRO_API_KEY': '761dde62-9394-45dd-83e0-27c4411900e6',\n",
    "    }\n",
    "\n",
    "    session = Session()\n",
    "    session.headers.update(headers)\n",
    "\n",
    "    try:\n",
    "      response = session.get(url, params=parameters)\n",
    "      data = json.loads(response.text)\n",
    "      print(data)\n",
    "    except (ConnectionError, Timeout, TooManyRedirects) as e:\n",
    "      print(e)\n",
    "    #To extend rate litmit run this \"--NotebookApp.iopub_data_rate_limit\" in anaconda prompt\n",
    "    df = pd.json_normalize(data['data'])\n",
    "    df['times_tamp'] = pd.to_datetime('now')\n",
    "    if not os.path.isfile(r\"C:\\VsCode\\crypto.csv\"):\n",
    "        df.to_csv(r\"C:\\VsCode\\crypto.csv\", header='Column_names')\n",
    "    else:\n",
    "        df.to_csv(r\"C:\\VsCode\\crypto.csv\", mode = 'a', header=False)\n",
    "        "
   ]
  },
  {
   "cell_type": "code",
   "execution_count": null,
   "id": "e30ee05b",
   "metadata": {},
   "outputs": [],
   "source": [
    "import os\n",
    "from time import time\n",
    "from time import sleep\n",
    "for i in range(333):\n",
    "    api_runner()\n",
    "    print('API runner completed')\n",
    "    sleep(60)\n",
    "exit()"
   ]
  },
  {
   "cell_type": "code",
   "execution_count": null,
   "id": "b106449f",
   "metadata": {},
   "outputs": [],
   "source": [
    "pd.read_csv(r\"C:\\VsCode\\crypto.csv\")"
   ]
  },
  {
   "cell_type": "code",
   "execution_count": 7,
   "id": "d1a8ab52",
   "metadata": {},
   "outputs": [],
   "source": [
    "pd.set_option('display.float_format', lambda x: '%.5f' % x)"
   ]
  },
  {
   "cell_type": "code",
   "execution_count": null,
   "id": "67ea3342",
   "metadata": {},
   "outputs": [],
   "source": [
    "df"
   ]
  },
  {
   "cell_type": "code",
   "execution_count": null,
   "id": "68415809",
   "metadata": {},
   "outputs": [],
   "source": [
    "df2 = df.groupby('name', sort=False)[['quote.USD.percent_change_1h','quote.USD.percent_change_24h','quote.USD.percent_change_7d','quote.USD.percent_change_30d','quote.USD.percent_change_60d',]].mean()\n",
    "df2"
   ]
  },
  {
   "cell_type": "code",
   "execution_count": null,
   "id": "3453277a",
   "metadata": {},
   "outputs": [],
   "source": [
    "df3 = df2.stack()\n",
    "df3"
   ]
  },
  {
   "cell_type": "code",
   "execution_count": 11,
   "id": "be51cd87",
   "metadata": {},
   "outputs": [
    {
     "data": {
      "text/plain": [
       "pandas.core.series.Series"
      ]
     },
     "execution_count": 11,
     "metadata": {},
     "output_type": "execute_result"
    }
   ],
   "source": [
    "type(df3)"
   ]
  },
  {
   "cell_type": "code",
   "execution_count": null,
   "id": "3d6cba50",
   "metadata": {},
   "outputs": [],
   "source": [
    "df4 = df3.to_frame(name='values')\n",
    "df4"
   ]
  },
  {
   "cell_type": "code",
   "execution_count": null,
   "id": "fb443da6",
   "metadata": {},
   "outputs": [],
   "source": [
    "df4.count()"
   ]
  },
  {
   "cell_type": "code",
   "execution_count": null,
   "id": "8b96b21b",
   "metadata": {},
   "outputs": [],
   "source": [
    "index = pd.Index(range(2500))\n",
    "df5 = df4.reset_index()\n",
    "df5"
   ]
  },
  {
   "cell_type": "code",
   "execution_count": null,
   "id": "8cc1c8a1",
   "metadata": {},
   "outputs": [],
   "source": [
    "df6 = df5.rename(columns={'level_1':'Percente_change'})\n",
    "df6"
   ]
  },
  {
   "cell_type": "code",
   "execution_count": null,
   "id": "ab270f4f",
   "metadata": {},
   "outputs": [],
   "source": [
    "df6['Percente_change'] = df6['Percente_change'].replace(['quote.USD.percent_change_1h','quote.USD.percent_change_24h','quote.USD.percent_change_7d','quote.USD.percent_change_30d','quote.USD.percent_change_60d'],['1h','24h','7d','30d','60d'])\n",
    "df6"
   ]
  },
  {
   "cell_type": "code",
   "execution_count": null,
   "id": "deeaefd1",
   "metadata": {},
   "outputs": [],
   "source": [
    "import seaborn as sns\n",
    "import matplotlib.pyplot as plt"
   ]
  },
  {
   "cell_type": "code",
   "execution_count": null,
   "id": "99eb2bd4",
   "metadata": {},
   "outputs": [],
   "source": [
    "sns.catplot(x = 'Percente_change', y = 'values', hue = 'name', data = df6, kind='point')"
   ]
  },
  {
   "cell_type": "code",
   "execution_count": null,
   "id": "4514307f",
   "metadata": {},
   "outputs": [],
   "source": [
    "df8 = df['name','quote.USD.price','timestamp']\n",
    "df8"
   ]
  },
  {
   "cell_type": "code",
   "execution_count": null,
   "id": "d97ab09f",
   "metadata": {},
   "outputs": [],
   "source": []
  }
 ],
 "metadata": {
  "kernelspec": {
   "display_name": "Python 3 (ipykernel)",
   "language": "python",
   "name": "python3"
  },
  "language_info": {
   "codemirror_mode": {
    "name": "ipython",
    "version": 3
   },
   "file_extension": ".py",
   "mimetype": "text/x-python",
   "name": "python",
   "nbconvert_exporter": "python",
   "pygments_lexer": "ipython3",
   "version": "3.10.9"
  }
 },
 "nbformat": 4,
 "nbformat_minor": 5
}
